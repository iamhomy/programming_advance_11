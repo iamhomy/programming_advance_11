{
 "cells": [
  {
   "cell_type": "code",
   "execution_count": 8,
   "metadata": {},
   "outputs": [],
   "source": [
    "#1a)\n",
    "def prime(num):\n",
    "    flag = False\n",
    "\n",
    "\n",
    "    if num > 1:\n",
    "        for i in range(2, num):\n",
    "            if (num % i) == 0:\n",
    "                flag = True\n",
    "                break\n",
    "\n",
    "    if flag:\n",
    "        return False\n",
    "    else:\n",
    "        return True\n",
    "\n",
    "def filter_primes(mylist):\n",
    "    l = []\n",
    "    for i in mylist:\n",
    "        if prime(i):\n",
    "            l.append(i)\n",
    "    return l        "
   ]
  },
  {
   "cell_type": "code",
   "execution_count": 9,
   "metadata": {},
   "outputs": [
    {
     "data": {
      "text/plain": [
       "[7, 3, 11]"
      ]
     },
     "execution_count": 9,
     "metadata": {},
     "output_type": "execute_result"
    }
   ],
   "source": [
    "filter_primes([7, 9, 3, 9, 10, 11, 27]) "
   ]
  },
  {
   "cell_type": "code",
   "execution_count": 10,
   "metadata": {},
   "outputs": [
    {
     "data": {
      "text/plain": [
       "[10007, 1009]"
      ]
     },
     "execution_count": 10,
     "metadata": {},
     "output_type": "execute_result"
    }
   ],
   "source": [
    "filter_primes([10007, 1009, 1007, 27, 147, 77, 1001, 70]) "
   ]
  },
  {
   "cell_type": "code",
   "execution_count": 12,
   "metadata": {},
   "outputs": [],
   "source": [
    "#2a)\n",
    "def pop(mylist):\n",
    "    l = []\n",
    "    for i in range(max(mylist)+1):\n",
    "        \n",
    "        l.append(i)\n",
    "    k= l.copy()\n",
    "    k.pop()\n",
    "    for i in k[::-1]:\n",
    "        l.append(i)\n",
    "    return l    "
   ]
  },
  {
   "cell_type": "code",
   "execution_count": 13,
   "metadata": {},
   "outputs": [
    {
     "data": {
      "text/plain": [
       "[0, 1, 2, 3, 4, 3, 2, 1, 0]"
      ]
     },
     "execution_count": 13,
     "metadata": {},
     "output_type": "execute_result"
    }
   ],
   "source": [
    "pop([0, 0, 0, 0, 4, 0, 0, 0, 0]) "
   ]
  },
  {
   "cell_type": "code",
   "execution_count": 15,
   "metadata": {},
   "outputs": [],
   "source": [
    "#3a)\n",
    "def loves_me(n):\n",
    "    l = []\n",
    "    flag = 1\n",
    "    for i in range(n-1):\n",
    "        if flag == 1:\n",
    "            l.append(\"loves me\")\n",
    "        else:\n",
    "            l.append(\"loves me not\")\n",
    "        flag = -flag\n",
    "     \n",
    "    if l[-1] == \"loves me not\":\n",
    "        l.append(\"LOVES ME\")\n",
    "    else:\n",
    "        l.append(\"LOVES ME NOT\")\n",
    "    return \", \".join(l)    "
   ]
  },
  {
   "cell_type": "code",
   "execution_count": 16,
   "metadata": {},
   "outputs": [
    {
     "data": {
      "text/plain": [
       "'loves me, loves me not, LOVES ME'"
      ]
     },
     "execution_count": 16,
     "metadata": {},
     "output_type": "execute_result"
    }
   ],
   "source": [
    "loves_me(3) "
   ]
  },
  {
   "cell_type": "code",
   "execution_count": 34,
   "metadata": {},
   "outputs": [],
   "source": [
    "#4a)\n",
    "import re\n",
    "def func(i):\n",
    "    return ord(re.findall(r'[a-z]',i)[0])\n",
    "    \n",
    "def sort_by_letter(mylist):\n",
    "     x = mylist\n",
    "     x.sort(key = func)\n",
    "     return x\n",
    "     \n",
    "                       \n",
    "            \n",
    "        "
   ]
  },
  {
   "cell_type": "code",
   "execution_count": 35,
   "metadata": {},
   "outputs": [
    {
     "data": {
      "text/plain": [
       "['2344b', '932c', '832u32']"
      ]
     },
     "execution_count": 35,
     "metadata": {},
     "output_type": "execute_result"
    }
   ],
   "source": [
    "sort_by_letter([\"932c\", \"832u32\", \"2344b\"])"
   ]
  },
  {
   "cell_type": "code",
   "execution_count": 33,
   "metadata": {},
   "outputs": [
    {
     "data": {
      "text/plain": [
       "['u']"
      ]
     },
     "execution_count": 33,
     "metadata": {},
     "output_type": "execute_result"
    }
   ],
   "source": [
    "re.findall(r'[a-z]',\"832u32\")"
   ]
  },
  {
   "cell_type": "code",
   "execution_count": 36,
   "metadata": {},
   "outputs": [],
   "source": [
    "#5a)\n",
    "def cup_swapping(mylist):\n",
    "    ball = \"B\"\n",
    "    for i in mylist:\n",
    "        i =list(i)\n",
    "        if ball in i:\n",
    "            i.remove(ball)\n",
    "            ball = i[0]\n",
    "    return ball        \n",
    "            "
   ]
  },
  {
   "cell_type": "code",
   "execution_count": 37,
   "metadata": {},
   "outputs": [
    {
     "data": {
      "text/plain": [
       "'C'"
      ]
     },
     "execution_count": 37,
     "metadata": {},
     "output_type": "execute_result"
    }
   ],
   "source": [
    "cup_swapping([\"AB\", \"CA\", \"AB\"]) "
   ]
  },
  {
   "cell_type": "code",
   "execution_count": null,
   "metadata": {},
   "outputs": [],
   "source": []
  }
 ],
 "metadata": {
  "kernelspec": {
   "display_name": "Python 3",
   "language": "python",
   "name": "python3"
  },
  "language_info": {
   "codemirror_mode": {
    "name": "ipython",
    "version": 3
   },
   "file_extension": ".py",
   "mimetype": "text/x-python",
   "name": "python",
   "nbconvert_exporter": "python",
   "pygments_lexer": "ipython3",
   "version": "3.8.3"
  }
 },
 "nbformat": 4,
 "nbformat_minor": 4
}
